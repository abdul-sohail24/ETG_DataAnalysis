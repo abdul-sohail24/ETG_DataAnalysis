{
  "nbformat": 4,
  "nbformat_minor": 2,
  "metadata": {
    "colab": {
      "name": "Olympics.ipynb",
      "provenance": [],
      "collapsed_sections": []
    },
    "kernelspec": {
      "name": "python3",
      "display_name": "Python 3.8.8 64-bit ('base': conda)"
    },
    "language_info": {
      "name": "python",
      "version": "3.8.8",
      "mimetype": "text/x-python",
      "codemirror_mode": {
        "name": "ipython",
        "version": 3
      },
      "pygments_lexer": "ipython3",
      "nbconvert_exporter": "python",
      "file_extension": ".py"
    },
    "interpreter": {
      "hash": "07efdcd4b820c98a756949507a4d29d7862823915ec7477944641bea022f4f62"
    }
  },
  "cells": [
    {
      "cell_type": "markdown",
      "source": [
        "#Reading the Dataset"
      ],
      "metadata": {
        "id": "SvHNNEgwVYvR"
      }
    },
    {
      "cell_type": "code",
      "execution_count": 314,
      "source": [
        "import pandas as pd\r\n",
        "import numpy as np\r\n",
        "DataSet = pd.read_csv(\"summer.csv\")"
      ],
      "outputs": [],
      "metadata": {
        "id": "hYd7e1St89qz"
      }
    },
    {
      "cell_type": "markdown",
      "source": [
        "#### 1. In how many cities Summer Olympics is held so far?"
      ],
      "metadata": {
        "id": "5g0VCcmkVydo"
      }
    },
    {
      "cell_type": "code",
      "execution_count": 170,
      "source": [
        "cities = DataSet['City'].unique()\r\n",
        "\r\n",
        "print(\"The Number of cities in which Summer Olympics are held is:\", len(cities))"
      ],
      "outputs": [
        {
          "output_type": "stream",
          "name": "stdout",
          "text": [
            "The Number of cities in which Summer Olympics are held is: 22\n"
          ]
        }
      ],
      "metadata": {
        "colab": {
          "base_uri": "https://localhost:8080/"
        },
        "id": "I3R7e6zKWCuS",
        "outputId": "dd2de844-5f66-4423-871e-51625c74a5fe"
      }
    },
    {
      "cell_type": "markdown",
      "source": [
        "### 2. Which sport is having most number of Gold Medals so far? (Top 5)"
      ],
      "metadata": {}
    },
    {
      "cell_type": "code",
      "execution_count": 330,
      "source": [
        "gold_medals = []\r\n",
        "gold = DataSet[DataSet['Medal'] == \"Gold\"]\r\n",
        "for sport in DataSet['Sport'].unique():\r\n",
        "    gold_medals.append([sport, len(gold[gold['Sport'] == sport])])\r\n",
        "\r\n",
        "#Converting the gold_medals list to DataFrame\r\n",
        "\r\n",
        "display = pd.DataFrame(gold_medals, columns = ['Sports', 'Gold Medals'])\r\n",
        "top_5 = display.sort_values(by = \"Gold Medals\", ascending=False).head()\r\n",
        "\r\n",
        "#Plotting the graph\r\n",
        "print(top_5)\r\n",
        "top_5.plot(x='Sports', y='Gold Medals', kind='bar', figsize=(5, 5))\r\n"
      ],
      "outputs": [
        {
          "output_type": "stream",
          "name": "stdout",
          "text": [
            "        Sports  Gold Medals\n",
            "0     Aquatics         1421\n",
            "1    Athletics         1215\n",
            "17      Rowing          890\n",
            "4   Gymnastics          820\n",
            "3      Fencing          552\n"
          ]
        },
        {
          "output_type": "execute_result",
          "data": {
            "text/plain": [
              "<AxesSubplot:xlabel='Sports'>"
            ]
          },
          "metadata": {},
          "execution_count": 330
        },
        {
          "output_type": "display_data",
          "data": {
            "image/png": "[encoded data removed]",
            "text/plain": [
              "<Figure size 360x360 with 1 Axes>"
            ]
          },
          "metadata": {
            "needs_background": "light"
          }
        }
      ],
      "metadata": {}
    },
    {
      "cell_type": "markdown",
      "source": [
        "### 3. Which sport is having most number of medals so far? (Top 5) "
      ],
      "metadata": {}
    },
    {
      "cell_type": "code",
      "execution_count": 172,
      "source": [
        "medals = []\r\n",
        "for sport in DataSet['Sport'].unique():\r\n",
        "    medals.append([sport, len(DataSet[DataSet['Sport'] == sport])])\r\n",
        "\r\n",
        "#Converting the Medals list to DataFrame\r\n",
        "\r\n",
        "display = pd.DataFrame(medals, columns = ['Sports','Medals'])\r\n",
        "display.sort_values(by = \"Medals\", ascending=False).head()"
      ],
      "outputs": [
        {
          "output_type": "execute_result",
          "data": {
            "text/html": [
              "<div>\n",
              "<style scoped>\n",
              "    .dataframe tbody tr th:only-of-type {\n",
              "        vertical-align: middle;\n",
              "    }\n",
              "\n",
              "    .dataframe tbody tr th {\n",
              "        vertical-align: top;\n",
              "    }\n",
              "\n",
              "    .dataframe thead th {\n",
              "        text-align: right;\n",
              "    }\n",
              "</style>\n",
              "<table border=\"1\" class=\"dataframe\">\n",
              "  <thead>\n",
              "    <tr style=\"text-align: right;\">\n",
              "      <th></th>\n",
              "      <th>Sports</th>\n",
              "      <th>Medals</th>\n",
              "    </tr>\n",
              "  </thead>\n",
              "  <tbody>\n",
              "    <tr>\n",
              "      <th>0</th>\n",
              "      <td>Aquatics</td>\n",
              "      <td>4170</td>\n",
              "    </tr>\n",
              "    <tr>\n",
              "      <th>1</th>\n",
              "      <td>Athletics</td>\n",
              "      <td>3638</td>\n",
              "    </tr>\n",
              "    <tr>\n",
              "      <th>17</th>\n",
              "      <td>Rowing</td>\n",
              "      <td>2667</td>\n",
              "    </tr>\n",
              "    <tr>\n",
              "      <th>4</th>\n",
              "      <td>Gymnastics</td>\n",
              "      <td>2307</td>\n",
              "    </tr>\n",
              "    <tr>\n",
              "      <th>3</th>\n",
              "      <td>Fencing</td>\n",
              "      <td>1613</td>\n",
              "    </tr>\n",
              "  </tbody>\n",
              "</table>\n",
              "</div>"
            ],
            "text/plain": [
              "        Sports  Medals\n",
              "0     Aquatics    4170\n",
              "1    Athletics    3638\n",
              "17      Rowing    2667\n",
              "4   Gymnastics    2307\n",
              "3      Fencing    1613"
            ]
          },
          "metadata": {},
          "execution_count": 172
        }
      ],
      "metadata": {}
    },
    {
      "cell_type": "markdown",
      "source": [
        "### 4. Which player has won most number of medals? (Top 5)\r\n"
      ],
      "metadata": {}
    },
    {
      "cell_type": "code",
      "execution_count": 173,
      "source": [
        "player_medals = []\r\n",
        "names = DataSet['Athlete'].unique()\r\n",
        "for player in names:\r\n",
        "    player_medals.append([player, len(DataSet[DataSet['Athlete'] == player])])\r\n",
        "\r\n",
        "# Converting the player and their medals to DataFrame\r\n",
        "\r\n",
        "display = pd.DataFrame(player_medals, columns=[\"PLayer\", \"No of Medals\"])\r\n",
        "display.sort_values(by = \"No of Medals\", ascending=False).head()"
      ],
      "outputs": [
        {
          "output_type": "execute_result",
          "data": {
            "text/html": [
              "<div>\n",
              "<style scoped>\n",
              "    .dataframe tbody tr th:only-of-type {\n",
              "        vertical-align: middle;\n",
              "    }\n",
              "\n",
              "    .dataframe tbody tr th {\n",
              "        vertical-align: top;\n",
              "    }\n",
              "\n",
              "    .dataframe thead th {\n",
              "        text-align: right;\n",
              "    }\n",
              "</style>\n",
              "<table border=\"1\" class=\"dataframe\">\n",
              "  <thead>\n",
              "    <tr style=\"text-align: right;\">\n",
              "      <th></th>\n",
              "      <th>PLayer</th>\n",
              "      <th>No of Medals</th>\n",
              "    </tr>\n",
              "  </thead>\n",
              "  <tbody>\n",
              "    <tr>\n",
              "      <th>18640</th>\n",
              "      <td>PHELPS, Michael</td>\n",
              "      <td>22</td>\n",
              "    </tr>\n",
              "    <tr>\n",
              "      <th>7197</th>\n",
              "      <td>LATYNINA, Larisa</td>\n",
              "      <td>18</td>\n",
              "    </tr>\n",
              "    <tr>\n",
              "      <th>9948</th>\n",
              "      <td>ANDRIANOV, Nikolay</td>\n",
              "      <td>15</td>\n",
              "    </tr>\n",
              "    <tr>\n",
              "      <th>6591</th>\n",
              "      <td>ONO, Takashi</td>\n",
              "      <td>13</td>\n",
              "    </tr>\n",
              "    <tr>\n",
              "      <th>5103</th>\n",
              "      <td>MANGIAROTTI, Edoardo</td>\n",
              "      <td>13</td>\n",
              "    </tr>\n",
              "  </tbody>\n",
              "</table>\n",
              "</div>"
            ],
            "text/plain": [
              "                     PLayer  No of Medals\n",
              "18640       PHELPS, Michael            22\n",
              "7197       LATYNINA, Larisa            18\n",
              "9948     ANDRIANOV, Nikolay            15\n",
              "6591           ONO, Takashi            13\n",
              "5103   MANGIAROTTI, Edoardo            13"
            ]
          },
          "metadata": {},
          "execution_count": 173
        }
      ],
      "metadata": {}
    },
    {
      "cell_type": "markdown",
      "source": [
        "### 5. Which player has won most number Gold Medals of medals? (Top 5)"
      ],
      "metadata": {}
    },
    {
      "cell_type": "code",
      "execution_count": 174,
      "source": [
        "gold_players = []\r\n",
        "goldenplayer = DataSet[DataSet['Medal'] == \"Gold\"]\r\n",
        "for player in DataSet['Athlete'].unique():\r\n",
        "    gold_players.append([player, len(goldenplayer[goldenplayer['Athlete'] == player])])\r\n",
        "\r\n",
        "# Converting the player and their medals to DataFrame\r\n",
        "\r\n",
        "display = pd.DataFrame(gold_players,columns=[\"Player\", \"No of Gold Medals\"])\r\n",
        "display.sort_values(by=\"No of Gold Medals\", ascending=False).head()"
      ],
      "outputs": [
        {
          "output_type": "execute_result",
          "data": {
            "text/html": [
              "<div>\n",
              "<style scoped>\n",
              "    .dataframe tbody tr th:only-of-type {\n",
              "        vertical-align: middle;\n",
              "    }\n",
              "\n",
              "    .dataframe tbody tr th {\n",
              "        vertical-align: top;\n",
              "    }\n",
              "\n",
              "    .dataframe thead th {\n",
              "        text-align: right;\n",
              "    }\n",
              "</style>\n",
              "<table border=\"1\" class=\"dataframe\">\n",
              "  <thead>\n",
              "    <tr style=\"text-align: right;\">\n",
              "      <th></th>\n",
              "      <th>Player</th>\n",
              "      <th>No of Gold Medals</th>\n",
              "    </tr>\n",
              "  </thead>\n",
              "  <tbody>\n",
              "    <tr>\n",
              "      <th>18640</th>\n",
              "      <td>PHELPS, Michael</td>\n",
              "      <td>18</td>\n",
              "    </tr>\n",
              "    <tr>\n",
              "      <th>12468</th>\n",
              "      <td>LEWIS, Carl</td>\n",
              "      <td>9</td>\n",
              "    </tr>\n",
              "    <tr>\n",
              "      <th>8811</th>\n",
              "      <td>SPITZ, Mark</td>\n",
              "      <td>9</td>\n",
              "    </tr>\n",
              "    <tr>\n",
              "      <th>2262</th>\n",
              "      <td>NURMI, Paavo</td>\n",
              "      <td>9</td>\n",
              "    </tr>\n",
              "    <tr>\n",
              "      <th>7197</th>\n",
              "      <td>LATYNINA, Larisa</td>\n",
              "      <td>9</td>\n",
              "    </tr>\n",
              "  </tbody>\n",
              "</table>\n",
              "</div>"
            ],
            "text/plain": [
              "                 Player  No of Gold Medals\n",
              "18640   PHELPS, Michael                 18\n",
              "12468       LEWIS, Carl                  9\n",
              "8811        SPITZ, Mark                  9\n",
              "2262       NURMI, Paavo                  9\n",
              "7197   LATYNINA, Larisa                  9"
            ]
          },
          "metadata": {},
          "execution_count": 174
        }
      ],
      "metadata": {}
    },
    {
      "cell_type": "markdown",
      "source": [
        "### 6. In which year India won first Gold Medal in Summer Olympics?"
      ],
      "metadata": {}
    },
    {
      "cell_type": "code",
      "execution_count": 205,
      "source": [
        "# India_gold\r\n",
        "gold = DataSet[DataSet['Medal'] == \"Gold\"]\r\n",
        "India_Gold = gold[gold['Country'] == \"IND\"]\r\n",
        "print(\"India won the first Gold Medal in Summer Olympics in the year:\", list(India_Gold['Year'])[0])"
      ],
      "outputs": [
        {
          "output_type": "stream",
          "name": "stdout",
          "text": [
            "India won the first Gold Medal in Summer Olympics in the year: 1928\n"
          ]
        }
      ],
      "metadata": {}
    },
    {
      "cell_type": "markdown",
      "source": [
        "### 7. Which event is most popular in terms on number of players? (Top 5)"
      ],
      "metadata": {}
    },
    {
      "cell_type": "code",
      "execution_count": 275,
      "source": [
        "sport_popularity=[]\r\n",
        "for sport in DataSet['Sport'].unique():\r\n",
        "    sport_popularity.append([sport, len(DataSet[DataSet['Sport'] == sport]['Athlete'].unique())])\r\n",
        "\r\n",
        "# Converting the sport popularity and the no.of Atheletes to DataFrame\r\n",
        "\r\n",
        "display = pd.DataFrame(sport_popularity, columns=['Sport', 'Popularity'])\r\n",
        "display.sort_values(by=\"Popularity\", ascending=False).head(5)\r\n"
      ],
      "outputs": [
        {
          "output_type": "execute_result",
          "data": {
            "text/html": [
              "<div>\n",
              "<style scoped>\n",
              "    .dataframe tbody tr th:only-of-type {\n",
              "        vertical-align: middle;\n",
              "    }\n",
              "\n",
              "    .dataframe tbody tr th {\n",
              "        vertical-align: top;\n",
              "    }\n",
              "\n",
              "    .dataframe thead th {\n",
              "        text-align: right;\n",
              "    }\n",
              "</style>\n",
              "<table border=\"1\" class=\"dataframe\">\n",
              "  <thead>\n",
              "    <tr style=\"text-align: right;\">\n",
              "      <th></th>\n",
              "      <th>Sport</th>\n",
              "      <th>Popularity</th>\n",
              "    </tr>\n",
              "  </thead>\n",
              "  <tbody>\n",
              "    <tr>\n",
              "      <th>1</th>\n",
              "      <td>Athletics</td>\n",
              "      <td>2655</td>\n",
              "    </tr>\n",
              "    <tr>\n",
              "      <th>0</th>\n",
              "      <td>Aquatics</td>\n",
              "      <td>2516</td>\n",
              "    </tr>\n",
              "    <tr>\n",
              "      <th>17</th>\n",
              "      <td>Rowing</td>\n",
              "      <td>2177</td>\n",
              "    </tr>\n",
              "    <tr>\n",
              "      <th>4</th>\n",
              "      <td>Gymnastics</td>\n",
              "      <td>1401</td>\n",
              "    </tr>\n",
              "    <tr>\n",
              "      <th>14</th>\n",
              "      <td>Football</td>\n",
              "      <td>1357</td>\n",
              "    </tr>\n",
              "  </tbody>\n",
              "</table>\n",
              "</div>"
            ],
            "text/plain": [
              "         Sport  Popularity\n",
              "1    Athletics        2655\n",
              "0     Aquatics        2516\n",
              "17      Rowing        2177\n",
              "4   Gymnastics        1401\n",
              "14    Football        1357"
            ]
          },
          "metadata": {},
          "execution_count": 275
        }
      ],
      "metadata": {}
    },
    {
      "cell_type": "markdown",
      "source": [
        "### 8. Which sport is having most female Gold Medalists? (Top 5)"
      ],
      "metadata": {}
    },
    {
      "cell_type": "code",
      "execution_count": 308,
      "source": [
        "gold_women = []\r\n",
        "goldenwomen = gold[gold['Gender'] == \"Women\"]\r\n",
        "for sport in DataSet['Sport'].unique():\r\n",
        "    gold_women.append([sport, len(goldenwomen[goldenwomen['Sport'] == sport])])\r\n",
        "\r\n",
        "# Converting the sport and the most female Gold Medalists to DataFrame\r\n",
        "\r\n",
        "display = pd.DataFrame(gold_women, columns=['Sport', 'No of Female Gold Medalists'])\r\n",
        "display.sort_values(by=\"No of Female Gold Medalists\", ascending=False).head(5)"
      ],
      "outputs": [
        {
          "output_type": "execute_result",
          "data": {
            "text/html": [
              "<div>\n",
              "<style scoped>\n",
              "    .dataframe tbody tr th:only-of-type {\n",
              "        vertical-align: middle;\n",
              "    }\n",
              "\n",
              "    .dataframe tbody tr th {\n",
              "        vertical-align: top;\n",
              "    }\n",
              "\n",
              "    .dataframe thead th {\n",
              "        text-align: right;\n",
              "    }\n",
              "</style>\n",
              "<table border=\"1\" class=\"dataframe\">\n",
              "  <thead>\n",
              "    <tr style=\"text-align: right;\">\n",
              "      <th></th>\n",
              "      <th>Sport</th>\n",
              "      <th>No of Female Gold Medalists</th>\n",
              "    </tr>\n",
              "  </thead>\n",
              "  <tbody>\n",
              "    <tr>\n",
              "      <th>0</th>\n",
              "      <td>Aquatics</td>\n",
              "      <td>589</td>\n",
              "    </tr>\n",
              "    <tr>\n",
              "      <th>1</th>\n",
              "      <td>Athletics</td>\n",
              "      <td>389</td>\n",
              "    </tr>\n",
              "    <tr>\n",
              "      <th>4</th>\n",
              "      <td>Gymnastics</td>\n",
              "      <td>268</td>\n",
              "    </tr>\n",
              "    <tr>\n",
              "      <th>17</th>\n",
              "      <td>Rowing</td>\n",
              "      <td>217</td>\n",
              "    </tr>\n",
              "    <tr>\n",
              "      <th>35</th>\n",
              "      <td>Volleyball</td>\n",
              "      <td>166</td>\n",
              "    </tr>\n",
              "  </tbody>\n",
              "</table>\n",
              "</div>"
            ],
            "text/plain": [
              "         Sport  No of Female Gold Medalists\n",
              "0     Aquatics                          589\n",
              "1    Athletics                          389\n",
              "4   Gymnastics                          268\n",
              "17      Rowing                          217\n",
              "35  Volleyball                          166"
            ]
          },
          "metadata": {},
          "execution_count": 308
        }
      ],
      "metadata": {}
    }
  ]
}