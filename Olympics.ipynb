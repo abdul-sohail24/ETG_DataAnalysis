{
  "nbformat": 4,
  "nbformat_minor": 2,
  "metadata": {
    "colab": {
      "name": "Olympics.ipynb",
      "provenance": [],
      "collapsed_sections": []
    },
    "kernelspec": {
      "name": "python3",
      "display_name": "Python 3.8.8 64-bit ('base': conda)"
    },
    "language_info": {
      "name": "python",
      "version": "3.8.8",
      "mimetype": "text/x-python",
      "codemirror_mode": {
        "name": "ipython",
        "version": 3
      },
      "pygments_lexer": "ipython3",
      "nbconvert_exporter": "python",
      "file_extension": ".py"
    },
    "interpreter": {
      "hash": "07efdcd4b820c98a756949507a4d29d7862823915ec7477944641bea022f4f62"
    }
  },
  "cells": [
    {
      "cell_type": "markdown",
      "source": [
        "#Reading the Dataset"
      ],
      "metadata": {
        "id": "SvHNNEgwVYvR"
      }
    },
    {
      "cell_type": "code",
      "execution_count": 1,
      "source": [
        "import pandas as pd\r\n",
        "import numpy as np\r\n",
        "DataSet = pd.read_csv(\"summer.csv\")"
      ],
      "outputs": [],
      "metadata": {
        "id": "hYd7e1St89qz"
      }
    },
    {
      "cell_type": "markdown",
      "source": [
        "#### 1. In how many cities Summer Olympics is held so far?"
      ],
      "metadata": {
        "id": "5g0VCcmkVydo"
      }
    },
    {
      "cell_type": "code",
      "execution_count": 2,
      "source": [
        "cities = DataSet['City'].unique()\r\n",
        "\r\n",
        "print(\"The Number of cities in which Summer Olympics are held is:\", len(cities))"
      ],
      "outputs": [
        {
          "output_type": "stream",
          "name": "stdout",
          "text": [
            "The Number of cities in which Summer Olympics are held is: 22\n"
          ]
        }
      ],
      "metadata": {
        "colab": {
          "base_uri": "https://localhost:8080/"
        },
        "id": "I3R7e6zKWCuS",
        "outputId": "dd2de844-5f66-4423-871e-51625c74a5fe"
      }
    }
  ]
}