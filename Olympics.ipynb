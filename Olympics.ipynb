{
  "nbformat": 4,
  "nbformat_minor": 2,
  "metadata": {
    "colab": {
      "name": "Olympics.ipynb",
      "provenance": [],
      "collapsed_sections": []
    },
    "kernelspec": {
      "name": "python3",
      "display_name": "Python 3.8.8 64-bit ('base': conda)"
    },
    "language_info": {
      "name": "python",
      "version": "3.8.8",
      "mimetype": "text/x-python",
      "codemirror_mode": {
        "name": "ipython",
        "version": 3
      },
      "pygments_lexer": "ipython3",
      "nbconvert_exporter": "python",
      "file_extension": ".py"
    },
    "interpreter": {
      "hash": "07efdcd4b820c98a756949507a4d29d7862823915ec7477944641bea022f4f62"
    }
  },
  "cells": [
    {
      "cell_type": "markdown",
      "source": [
        "#Reading the Dataset"
      ],
      "metadata": {
        "id": "SvHNNEgwVYvR"
      }
    },
    {
      "cell_type": "code",
      "execution_count": 1,
      "source": [
        "import pandas as pd\r\n",
        "import numpy as np\r\n",
        "DataSet = pd.read_csv(\"summer.csv\")"
      ],
      "outputs": [],
      "metadata": {
        "id": "hYd7e1St89qz"
      }
    },
    {
      "cell_type": "markdown",
      "source": [
        "#### 1. In how many cities Summer Olympics is held so far?"
      ],
      "metadata": {
        "id": "5g0VCcmkVydo"
      }
    },
    {
      "cell_type": "code",
      "execution_count": 2,
      "source": [
        "cities = DataSet['City'].unique()\r\n",
        "\r\n",
        "print(\"The Number of cities in which Summer Olympics are held is:\", len(cities))"
      ],
      "outputs": [
        {
          "output_type": "stream",
          "name": "stdout",
          "text": [
            "The Number of cities in which Summer Olympics are held is: 22\n"
          ]
        }
      ],
      "metadata": {
        "colab": {
          "base_uri": "https://localhost:8080/"
        },
        "id": "I3R7e6zKWCuS",
        "outputId": "dd2de844-5f66-4423-871e-51625c74a5fe"
      }
    },
    {
      "cell_type": "markdown",
      "source": [
        "### 2. Which sport is having most number of Gold Medals so far? (Top 5)"
      ],
      "metadata": {}
    },
    {
      "cell_type": "code",
      "execution_count": 88,
      "source": [
        "gold_medals = []\r\n",
        "gold = DataSet[DataSet['Medal'] == \"Gold\"]\r\n",
        "for sport in DataSet['Sport'].unique():\r\n",
        "    gold_medals.append([sport, len(gold[gold['Sport'] == sport])])\r\n",
        "\r\n",
        "#Converting the gold_medals list to DataFrame\r\n",
        "\r\n",
        "display = pd.DataFrame(gold_medals, columns = ['Sports', 'Gold Medals'])\r\n",
        "display.sort_values(by = \"Gold Medals\", ascending=False).head()"
      ],
      "outputs": [
        {
          "output_type": "execute_result",
          "data": {
            "text/html": [
              "<div>\n",
              "<style scoped>\n",
              "    .dataframe tbody tr th:only-of-type {\n",
              "        vertical-align: middle;\n",
              "    }\n",
              "\n",
              "    .dataframe tbody tr th {\n",
              "        vertical-align: top;\n",
              "    }\n",
              "\n",
              "    .dataframe thead th {\n",
              "        text-align: right;\n",
              "    }\n",
              "</style>\n",
              "<table border=\"1\" class=\"dataframe\">\n",
              "  <thead>\n",
              "    <tr style=\"text-align: right;\">\n",
              "      <th></th>\n",
              "      <th>Sports</th>\n",
              "      <th>Gold Medals</th>\n",
              "    </tr>\n",
              "  </thead>\n",
              "  <tbody>\n",
              "    <tr>\n",
              "      <th>0</th>\n",
              "      <td>Aquatics</td>\n",
              "      <td>1421</td>\n",
              "    </tr>\n",
              "    <tr>\n",
              "      <th>1</th>\n",
              "      <td>Athletics</td>\n",
              "      <td>1215</td>\n",
              "    </tr>\n",
              "    <tr>\n",
              "      <th>17</th>\n",
              "      <td>Rowing</td>\n",
              "      <td>890</td>\n",
              "    </tr>\n",
              "    <tr>\n",
              "      <th>4</th>\n",
              "      <td>Gymnastics</td>\n",
              "      <td>820</td>\n",
              "    </tr>\n",
              "    <tr>\n",
              "      <th>3</th>\n",
              "      <td>Fencing</td>\n",
              "      <td>552</td>\n",
              "    </tr>\n",
              "  </tbody>\n",
              "</table>\n",
              "</div>"
            ],
            "text/plain": [
              "        Sports  Gold Medals\n",
              "0     Aquatics         1421\n",
              "1    Athletics         1215\n",
              "17      Rowing          890\n",
              "4   Gymnastics          820\n",
              "3      Fencing          552"
            ]
          },
          "metadata": {},
          "execution_count": 88
        }
      ],
      "metadata": {}
    },
    {
      "cell_type": "markdown",
      "source": [
        "### 3. Which sport is having most number of medals so far? (Top 5) "
      ],
      "metadata": {}
    },
    {
      "cell_type": "code",
      "execution_count": 103,
      "source": [
        "medals = []\r\n",
        "for sport in DataSet['Sport'].unique():\r\n",
        "    medals.append([sport, len(DataSet[DataSet['Sport'] == sport])])\r\n",
        "\r\n",
        "#Converting the gold_medals list to DataFrame\r\n",
        "\r\n",
        "display = pd.DataFrame(medals, columns = ['Sports','Medals'])\r\n",
        "display.sort_values(by = \"Medals\", ascending=False).head()"
      ],
      "outputs": [],
      "metadata": {}
    },
    {
      "cell_type": "code",
      "execution_count": 106,
      "source": [],
      "outputs": [
        {
          "output_type": "execute_result",
          "data": {
            "text/html": [
              "<div>\n",
              "<style scoped>\n",
              "    .dataframe tbody tr th:only-of-type {\n",
              "        vertical-align: middle;\n",
              "    }\n",
              "\n",
              "    .dataframe tbody tr th {\n",
              "        vertical-align: top;\n",
              "    }\n",
              "\n",
              "    .dataframe thead th {\n",
              "        text-align: right;\n",
              "    }\n",
              "</style>\n",
              "<table border=\"1\" class=\"dataframe\">\n",
              "  <thead>\n",
              "    <tr style=\"text-align: right;\">\n",
              "      <th></th>\n",
              "      <th>Year</th>\n",
              "      <th>City</th>\n",
              "      <th>Sport</th>\n",
              "      <th>Discipline</th>\n",
              "      <th>Athlete</th>\n",
              "      <th>Country</th>\n",
              "      <th>Gender</th>\n",
              "      <th>Event</th>\n",
              "      <th>Medal</th>\n",
              "    </tr>\n",
              "  </thead>\n",
              "  <tbody>\n",
              "    <tr>\n",
              "      <th>48</th>\n",
              "      <td>1896</td>\n",
              "      <td>Athens</td>\n",
              "      <td>Cycling</td>\n",
              "      <td>Cycling Road</td>\n",
              "      <td>BATTEL, Edward</td>\n",
              "      <td>GBR</td>\n",
              "      <td>Men</td>\n",
              "      <td>Individual Road Race</td>\n",
              "      <td>Bronze</td>\n",
              "    </tr>\n",
              "    <tr>\n",
              "      <th>49</th>\n",
              "      <td>1896</td>\n",
              "      <td>Athens</td>\n",
              "      <td>Cycling</td>\n",
              "      <td>Cycling Road</td>\n",
              "      <td>KONSTANTINIDIS, Aristidis</td>\n",
              "      <td>GRE</td>\n",
              "      <td>Men</td>\n",
              "      <td>Individual Road Race</td>\n",
              "      <td>Gold</td>\n",
              "    </tr>\n",
              "    <tr>\n",
              "      <th>50</th>\n",
              "      <td>1896</td>\n",
              "      <td>Athens</td>\n",
              "      <td>Cycling</td>\n",
              "      <td>Cycling Road</td>\n",
              "      <td>GOEDRICH, August</td>\n",
              "      <td>GER</td>\n",
              "      <td>Men</td>\n",
              "      <td>Individual Road Race</td>\n",
              "      <td>Silver</td>\n",
              "    </tr>\n",
              "    <tr>\n",
              "      <th>51</th>\n",
              "      <td>1896</td>\n",
              "      <td>Athens</td>\n",
              "      <td>Cycling</td>\n",
              "      <td>Cycling Track</td>\n",
              "      <td>FLAMENG, Léon</td>\n",
              "      <td>FRA</td>\n",
              "      <td>Men</td>\n",
              "      <td>100KM</td>\n",
              "      <td>Gold</td>\n",
              "    </tr>\n",
              "    <tr>\n",
              "      <th>52</th>\n",
              "      <td>1896</td>\n",
              "      <td>Athens</td>\n",
              "      <td>Cycling</td>\n",
              "      <td>Cycling Track</td>\n",
              "      <td>KOLETTIS, Georgios</td>\n",
              "      <td>GRE</td>\n",
              "      <td>Men</td>\n",
              "      <td>100KM</td>\n",
              "      <td>Silver</td>\n",
              "    </tr>\n",
              "    <tr>\n",
              "      <th>...</th>\n",
              "      <td>...</td>\n",
              "      <td>...</td>\n",
              "      <td>...</td>\n",
              "      <td>...</td>\n",
              "      <td>...</td>\n",
              "      <td>...</td>\n",
              "      <td>...</td>\n",
              "      <td>...</td>\n",
              "      <td>...</td>\n",
              "    </tr>\n",
              "    <tr>\n",
              "      <th>30076</th>\n",
              "      <td>2012</td>\n",
              "      <td>London</td>\n",
              "      <td>Cycling</td>\n",
              "      <td>Mountain Bike</td>\n",
              "      <td>SCHURTER, Nino</td>\n",
              "      <td>SUI</td>\n",
              "      <td>Men</td>\n",
              "      <td>Cross-Country</td>\n",
              "      <td>Silver</td>\n",
              "    </tr>\n",
              "    <tr>\n",
              "      <th>30077</th>\n",
              "      <td>2012</td>\n",
              "      <td>London</td>\n",
              "      <td>Cycling</td>\n",
              "      <td>Mountain Bike</td>\n",
              "      <td>FONTANA, Marco Aurelio</td>\n",
              "      <td>ITA</td>\n",
              "      <td>Men</td>\n",
              "      <td>Cross-Country</td>\n",
              "      <td>Bronze</td>\n",
              "    </tr>\n",
              "    <tr>\n",
              "      <th>30078</th>\n",
              "      <td>2012</td>\n",
              "      <td>London</td>\n",
              "      <td>Cycling</td>\n",
              "      <td>Mountain Bike</td>\n",
              "      <td>BRESSET, Julie</td>\n",
              "      <td>FRA</td>\n",
              "      <td>Women</td>\n",
              "      <td>Cross-Country</td>\n",
              "      <td>Gold</td>\n",
              "    </tr>\n",
              "    <tr>\n",
              "      <th>30079</th>\n",
              "      <td>2012</td>\n",
              "      <td>London</td>\n",
              "      <td>Cycling</td>\n",
              "      <td>Mountain Bike</td>\n",
              "      <td>SPITZ, Sabine</td>\n",
              "      <td>GER</td>\n",
              "      <td>Women</td>\n",
              "      <td>Cross-Country</td>\n",
              "      <td>Silver</td>\n",
              "    </tr>\n",
              "    <tr>\n",
              "      <th>30080</th>\n",
              "      <td>2012</td>\n",
              "      <td>London</td>\n",
              "      <td>Cycling</td>\n",
              "      <td>Mountain Bike</td>\n",
              "      <td>GOULD, Georgia</td>\n",
              "      <td>USA</td>\n",
              "      <td>Women</td>\n",
              "      <td>Cross-Country</td>\n",
              "      <td>Bronze</td>\n",
              "    </tr>\n",
              "  </tbody>\n",
              "</table>\n",
              "<p>1105 rows × 9 columns</p>\n",
              "</div>"
            ],
            "text/plain": [
              "       Year    City    Sport     Discipline                    Athlete  \\\n",
              "48     1896  Athens  Cycling   Cycling Road             BATTEL, Edward   \n",
              "49     1896  Athens  Cycling   Cycling Road  KONSTANTINIDIS, Aristidis   \n",
              "50     1896  Athens  Cycling   Cycling Road           GOEDRICH, August   \n",
              "51     1896  Athens  Cycling  Cycling Track              FLAMENG, Léon   \n",
              "52     1896  Athens  Cycling  Cycling Track         KOLETTIS, Georgios   \n",
              "...     ...     ...      ...            ...                        ...   \n",
              "30076  2012  London  Cycling  Mountain Bike             SCHURTER, Nino   \n",
              "30077  2012  London  Cycling  Mountain Bike     FONTANA, Marco Aurelio   \n",
              "30078  2012  London  Cycling  Mountain Bike             BRESSET, Julie   \n",
              "30079  2012  London  Cycling  Mountain Bike              SPITZ, Sabine   \n",
              "30080  2012  London  Cycling  Mountain Bike             GOULD, Georgia   \n",
              "\n",
              "      Country Gender                 Event   Medal  \n",
              "48        GBR    Men  Individual Road Race  Bronze  \n",
              "49        GRE    Men  Individual Road Race    Gold  \n",
              "50        GER    Men  Individual Road Race  Silver  \n",
              "51        FRA    Men                 100KM    Gold  \n",
              "52        GRE    Men                 100KM  Silver  \n",
              "...       ...    ...                   ...     ...  \n",
              "30076     SUI    Men         Cross-Country  Silver  \n",
              "30077     ITA    Men         Cross-Country  Bronze  \n",
              "30078     FRA  Women         Cross-Country    Gold  \n",
              "30079     GER  Women         Cross-Country  Silver  \n",
              "30080     USA  Women         Cross-Country  Bronze  \n",
              "\n",
              "[1105 rows x 9 columns]"
            ]
          },
          "metadata": {},
          "execution_count": 106
        }
      ],
      "metadata": {}
    },
    {
      "cell_type": "code",
      "execution_count": null,
      "source": [],
      "outputs": [],
      "metadata": {}
    }
  ]
}